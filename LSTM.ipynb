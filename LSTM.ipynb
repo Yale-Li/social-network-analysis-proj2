{
 "cells": [
  {
   "cell_type": "code",
   "execution_count": 1,
   "metadata": {},
   "outputs": [
    {
     "name": "stderr",
     "output_type": "stream",
     "text": [
      "2023-04-17 00:00:23.342546: I tensorflow/core/platform/cpu_feature_guard.cc:193] This TensorFlow binary is optimized with oneAPI Deep Neural Network Library (oneDNN) to use the following CPU instructions in performance-critical operations:  AVX2 FMA\n",
      "To enable them in other operations, rebuild TensorFlow with the appropriate compiler flags.\n"
     ]
    },
    {
     "name": "stdout",
     "output_type": "stream",
     "text": [
      "id           0\n",
      "tid1         0\n",
      "tid2         0\n",
      "title1_en    0\n",
      "title2_en    0\n",
      "label        0\n",
      "dtype: int64\n"
     ]
    }
   ],
   "source": [
    "from tensorflow import keras\n",
    "from keras.models import Sequential\n",
    "from keras import layers\n",
    "from keras.preprocessing.text import Tokenizer\n",
    "from keras.utils.data_utils import pad_sequences\n",
    "import pandas as pd\n",
    "import data\n",
    "\n",
    "train_df = pd.read_csv('./data/train.csv')[:10000]\n",
    "test_df = pd.read_csv('./data/test.csv')\n",
    "\n",
    "print(train_df.isnull().sum())"
   ]
  },
  {
   "cell_type": "code",
   "execution_count": 2,
   "metadata": {},
   "outputs": [
    {
     "data": {
      "text/plain": [
       "(10000, 66)"
      ]
     },
     "execution_count": 2,
     "metadata": {},
     "output_type": "execute_result"
    }
   ],
   "source": [
    "\n",
    "train_df[\"title1_en\"] = train_df[\"title1_en\"].apply(data.preprocess_text)\n",
    "train_df[\"title2_en\"] = train_df[\"title2_en\"].apply(data.preprocess_text)\n",
    "test_df[\"title1_en\"] = test_df[\"title1_en\"].apply(data.preprocess_text)\n",
    "test_df[\"title2_en\"] = test_df[\"title2_en\"].apply(data.preprocess_text)\n",
    "\n",
    "# Concatenate the two titles into a single string\n",
    "train_df['text'] = train_df['title1_en'] + ' ' + train_df['title2_en']\n",
    "test_df['text'] = test_df['title1_en'] + ' ' + test_df['title2_en']\n",
    "\n",
    "label_dict = {'agreed': 0, 'disagreed': 1, 'unrelated': 2}\n",
    "train_df['label_num'] = train_df['label'].apply(lambda x: label_dict[x])\n",
    "\n",
    "max_features = 2000\n",
    "tokenizer = Tokenizer(num_words=max_features)\n",
    "tokenizer.fit_on_texts(train_df['text'])\n",
    "\n",
    "# convert the text sequences to integer sequences\n",
    "train_sequences = tokenizer.texts_to_sequences(train_df['text'].values)\n",
    "# train_matrix = tokenizer.texts_to_matrix(train_df['text'].values, mode='tfidf')\n",
    "# pad the sequences to have the same length\n",
    "max_length = max([len(seq) for seq in train_sequences])\n",
    "train_data = pad_sequences(train_sequences, maxlen=max_length)\n",
    "\n",
    "train_labels = keras.utils.to_categorical(train_df['label_num'].values)\n",
    "\n",
    "# print(max_features, train_matrix.shape, train_data.shape, len(tokenizer.word_index))\n",
    "train_data.shape"
   ]
  },
  {
   "cell_type": "code",
   "execution_count": 3,
   "metadata": {},
   "outputs": [
    {
     "name": "stdout",
     "output_type": "stream",
     "text": [
      "Metal device set to: AMD Radeon Pro 5300M\n",
      "\n",
      "systemMemory: 16.00 GB\n",
      "maxCacheSize: 1.99 GB\n",
      "\n"
     ]
    },
    {
     "name": "stderr",
     "output_type": "stream",
     "text": [
      "2023-04-17 00:00:51.556079: I tensorflow/core/platform/cpu_feature_guard.cc:193] This TensorFlow binary is optimized with oneAPI Deep Neural Network Library (oneDNN) to use the following CPU instructions in performance-critical operations:  AVX2 FMA\n",
      "To enable them in other operations, rebuild TensorFlow with the appropriate compiler flags.\n",
      "2023-04-17 00:00:51.557129: I tensorflow/core/common_runtime/pluggable_device/pluggable_device_factory.cc:306] Could not identify NUMA node of platform GPU ID 0, defaulting to 0. Your kernel may not have been built with NUMA support.\n",
      "2023-04-17 00:00:51.557201: I tensorflow/core/platform/cpu_feature_guard.cc:193] This TensorFlow binary is optimized with oneAPI Deep Neural Network Library (oneDNN) to use the following CPU instructions in performance-critical operations:  AVX2 FMA\n",
      "To enable them in other operations, rebuild TensorFlow with the appropriate compiler flags.\n",
      "2023-04-17 00:00:51.557433: I tensorflow/core/common_runtime/pluggable_device/pluggable_device_factory.cc:272] Created TensorFlow device (/job:localhost/replica:0/task:0/device:GPU:0 with 0 MB memory) -> physical PluggableDevice (device: 0, name: METAL, pci bus id: <undefined>)\n"
     ]
    },
    {
     "name": "stdout",
     "output_type": "stream",
     "text": [
      "Epoch 1/10\n"
     ]
    },
    {
     "name": "stderr",
     "output_type": "stream",
     "text": [
      "2023-04-17 00:00:54.834435: I tensorflow/core/grappler/optimizers/custom_graph_optimizer_registry.cc:114] Plugin optimizer for device_type GPU is enabled.\n",
      "2023-04-17 00:00:55.101293: I tensorflow/core/grappler/optimizers/custom_graph_optimizer_registry.cc:114] Plugin optimizer for device_type GPU is enabled.\n",
      "2023-04-17 00:00:56.697502: I tensorflow/core/grappler/optimizers/custom_graph_optimizer_registry.cc:114] Plugin optimizer for device_type GPU is enabled.\n"
     ]
    },
    {
     "name": "stdout",
     "output_type": "stream",
     "text": [
      "71/71 [==============================] - ETA: 0s - loss: 0.9419 - accuracy: 0.6499"
     ]
    },
    {
     "name": "stderr",
     "output_type": "stream",
     "text": [
      "2023-04-17 00:01:05.215494: I tensorflow/core/grappler/optimizers/custom_graph_optimizer_registry.cc:114] Plugin optimizer for device_type GPU is enabled.\n",
      "2023-04-17 00:01:05.319520: I tensorflow/core/grappler/optimizers/custom_graph_optimizer_registry.cc:114] Plugin optimizer for device_type GPU is enabled.\n"
     ]
    },
    {
     "name": "stdout",
     "output_type": "stream",
     "text": [
      "71/71 [==============================] - 13s 125ms/step - loss: 0.9419 - accuracy: 0.6499 - val_loss: 0.8398 - val_accuracy: 0.6720\n",
      "Epoch 2/10\n",
      "71/71 [==============================] - 8s 106ms/step - loss: 0.8017 - accuracy: 0.6577 - val_loss: 0.7811 - val_accuracy: 0.6720\n",
      "Epoch 3/10\n",
      "71/71 [==============================] - 8s 107ms/step - loss: 0.7629 - accuracy: 0.6577 - val_loss: 0.7673 - val_accuracy: 0.6720\n",
      "Epoch 4/10\n",
      "71/71 [==============================] - 8s 108ms/step - loss: 0.7480 - accuracy: 0.6577 - val_loss: 0.7644 - val_accuracy: 0.6720\n",
      "Epoch 5/10\n",
      "71/71 [==============================] - 8s 107ms/step - loss: 0.7421 - accuracy: 0.6577 - val_loss: 0.7661 - val_accuracy: 0.6720\n",
      "Epoch 6/10\n",
      "71/71 [==============================] - 8s 108ms/step - loss: 0.7398 - accuracy: 0.6577 - val_loss: 0.7660 - val_accuracy: 0.6720\n",
      "Epoch 7/10\n",
      "71/71 [==============================] - 8s 108ms/step - loss: 0.7389 - accuracy: 0.6577 - val_loss: 0.7665 - val_accuracy: 0.6720\n",
      "Epoch 8/10\n",
      "71/71 [==============================] - 8s 108ms/step - loss: 0.7386 - accuracy: 0.6577 - val_loss: 0.7683 - val_accuracy: 0.6720\n",
      "Epoch 9/10\n",
      "71/71 [==============================] - 8s 109ms/step - loss: 0.7383 - accuracy: 0.6577 - val_loss: 0.7684 - val_accuracy: 0.6720\n",
      "Epoch 10/10\n",
      "71/71 [==============================] - 8s 109ms/step - loss: 0.7382 - accuracy: 0.6577 - val_loss: 0.7685 - val_accuracy: 0.6720\n"
     ]
    }
   ],
   "source": [
    "embedding_dim = 100\n",
    "model = Sequential()\n",
    "model.add(layers.Embedding(len(tokenizer.word_index)+1, embedding_dim, input_length=max_length))\n",
    "model.add(layers.LSTM(100, dropout=0, recurrent_dropout=0))\n",
    "# Add a classifier\n",
    "model.add(layers.Dense(3, activation=\"softmax\"))\n",
    "\n",
    "\n",
    "model.compile(\"SGD\", \"categorical_crossentropy\", metrics=['accuracy'])\n",
    "\n",
    "history = model.fit(train_data, train_labels, batch_size=128, epochs=10, validation_split=0.1)\n"
   ]
  },
  {
   "cell_type": "code",
   "execution_count": 4,
   "metadata": {},
   "outputs": [
    {
     "data": {
      "image/png": "[encoded data removed]",
      "text/plain": [
       "<Figure size 432x288 with 1 Axes>"
      ]
     },
     "metadata": {
      "needs_background": "light"
     },
     "output_type": "display_data"
    },
    {
     "data": {
      "image/png": "[encoded data removed]",
      "text/plain": [
       "<Figure size 432x288 with 1 Axes>"
      ]
     },
     "metadata": {
      "needs_background": "light"
     },
     "output_type": "display_data"
    }
   ],
   "source": [
    "import matplotlib.pyplot as plt\n",
    "# Plotter function\n",
    "def plot_history(losses, val_losses, accuracies, val_accuracies):\n",
    "    plt.plot(losses)\n",
    "    plt.plot(val_losses)\n",
    "    plt.legend([\"train_loss\", \"val_loss\"])\n",
    "    plt.xlabel(\"Epochs\")\n",
    "    plt.ylabel(\"Loss\")\n",
    "    plt.show()\n",
    "\n",
    "    plt.plot(accuracies)\n",
    "    plt.plot(val_accuracies)\n",
    "    plt.legend([\"train_accuracy\", \"val_accuracy\"])\n",
    "    plt.xlabel(\"Epochs\")\n",
    "    plt.ylabel(\"Accuracy\")\n",
    "    plt.show()\n",
    "\n",
    "# Plot history\n",
    "plot_history(\n",
    "    history.history[\"loss\"],\n",
    "    history.history[\"val_loss\"],\n",
    "    history.history[\"accuracy\"],\n",
    "    history.history[\"val_accuracy\"],\n",
    ")"
   ]
  },
  {
   "cell_type": "code",
   "execution_count": null,
   "metadata": {},
   "outputs": [],
   "source": []
  }
 ],
 "metadata": {
  "kernelspec": {
   "display_name": "base",
   "language": "python",
   "name": "python3"
  },
  "language_info": {
   "codemirror_mode": {
    "name": "ipython",
    "version": 3
   },
   "file_extension": ".py",
   "mimetype": "text/x-python",
   "name": "python",
   "nbconvert_exporter": "python",
   "pygments_lexer": "ipython3",
   "version": "3.9.12"
  },
  "orig_nbformat": 4
 },
 "nbformat": 4,
 "nbformat_minor": 2
}
