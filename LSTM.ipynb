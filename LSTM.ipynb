{
 "cells": [
  {
   "cell_type": "code",
   "execution_count": 26,
   "metadata": {},
   "outputs": [
    {
     "name": "stdout",
     "output_type": "stream",
     "text": [
      "id           0\n",
      "tid1         0\n",
      "tid2         0\n",
      "title1_en    0\n",
      "title2_en    0\n",
      "label        0\n",
      "dtype: int64\n"
     ]
    },
    {
     "data": {
      "text/plain": [
       "(10000, 6)"
      ]
     },
     "execution_count": 26,
     "metadata": {},
     "output_type": "execute_result"
    }
   ],
   "source": [
    "from tensorflow import keras\n",
    "from keras.models import Sequential\n",
    "from keras import layers\n",
    "from keras.preprocessing.text import Tokenizer\n",
    "from keras.utils.data_utils import pad_sequences\n",
    "import pandas as pd\n",
    "import numpy as np\n",
    "\n",
    "\n",
    "train_df = pd.read_csv('./data/train.csv')[:10000]\n",
    "test_df = pd.read_csv('./data/test.csv')\n",
    "\n",
    "print(train_df.isnull().sum())\n",
    "train_df.shape"
   ]
  },
  {
   "cell_type": "code",
   "execution_count": 27,
   "metadata": {},
   "outputs": [],
   "source": [
    "import data\n",
    "\n",
    "train_df[\"title1_en\"] = train_df[\"title1_en\"].apply(data.preprocess_text)\n",
    "train_df[\"title2_en\"] = train_df[\"title2_en\"].apply(data.preprocess_text)\n",
    "test_df[\"title1_en\"] = test_df[\"title1_en\"].apply(data.preprocess_text)\n",
    "test_df[\"title2_en\"] = test_df[\"title2_en\"].apply(data.preprocess_text)\n",
    "\n",
    "# Concatenate the two titles into a single string\n",
    "train_df['text'] = train_df['title1_en'] + ' ' + train_df['title2_en']\n",
    "test_df['text'] = test_df['title1_en'] + ' ' + test_df['title2_en']\n",
    "\n",
    "label_dict = {'agreed': 0, 'disagreed': 1, 'unrelated': 2}\n",
    "train_df['label_num'] = train_df['label'].apply(lambda x: label_dict[x])\n",
    "\n",
    "max_features = 2000\n",
    "tokenizer = Tokenizer(num_words=max_features)\n",
    "tokenizer.fit_on_texts(train_df['text'])\n",
    "\n",
    "# convert the text sequences to integer sequences\n",
    "train_sequences = tokenizer.texts_to_sequences(train_df['text'].values)\n",
    "# train_matrix = tokenizer.texts_to_matrix(train_df['text'].values, mode='tfidf')\n",
    "# pad the sequences to have the same length\n",
    "max_length = max([len(seq) for seq in train_sequences])\n",
    "train_data = pad_sequences(train_sequences, maxlen=max_length)\n",
    "\n",
    "train_labels = keras.utils.to_categorical(train_df['label_num'].values)\n",
    "\n",
    "# print(max_features, train_matrix.shape, train_data.shape, len(tokenizer.word_index))"
   ]
  },
  {
   "cell_type": "code",
   "execution_count": 28,
   "metadata": {},
   "outputs": [
    {
     "name": "stdout",
     "output_type": "stream",
     "text": [
      "Model: \"model_4\"\n",
      "_________________________________________________________________\n",
      " Layer (type)                Output Shape              Param #   \n",
      "=================================================================\n",
      " input_5 (InputLayer)        [(None, None)]            0         \n",
      "                                                                 \n",
      " embedding_8 (Embedding)     (None, None, 128)         256000    \n",
      "                                                                 \n",
      " lstm_12 (LSTM)              (None, None, 64)          49408     \n",
      "                                                                 \n",
      " lstm_13 (LSTM)              (None, 64)                33024     \n",
      "                                                                 \n",
      " dense_8 (Dense)             (None, 3)                 195       \n",
      "                                                                 \n",
      "=================================================================\n",
      "Total params: 338,627\n",
      "Trainable params: 338,627\n",
      "Non-trainable params: 0\n",
      "_________________________________________________________________\n",
      "Epoch 1/10\n"
     ]
    },
    {
     "name": "stderr",
     "output_type": "stream",
     "text": [
      "2023-04-23 18:00:47.209001: I tensorflow/core/grappler/optimizers/custom_graph_optimizer_registry.cc:114] Plugin optimizer for device_type GPU is enabled.\n",
      "2023-04-23 18:00:47.668204: I tensorflow/core/grappler/optimizers/custom_graph_optimizer_registry.cc:114] Plugin optimizer for device_type GPU is enabled.\n",
      "2023-04-23 18:00:48.029088: I tensorflow/core/grappler/optimizers/custom_graph_optimizer_registry.cc:114] Plugin optimizer for device_type GPU is enabled.\n",
      "2023-04-23 18:00:48.499520: I tensorflow/core/grappler/optimizers/custom_graph_optimizer_registry.cc:114] Plugin optimizer for device_type GPU is enabled.\n",
      "2023-04-23 18:00:49.091676: I tensorflow/core/grappler/optimizers/custom_graph_optimizer_registry.cc:114] Plugin optimizer for device_type GPU is enabled.\n"
     ]
    },
    {
     "name": "stdout",
     "output_type": "stream",
     "text": [
      "55/55 [==============================] - ETA: 0s - loss: 1.0810 - accuracy: 0.6211"
     ]
    },
    {
     "name": "stderr",
     "output_type": "stream",
     "text": [
      "2023-04-23 18:01:01.999333: I tensorflow/core/grappler/optimizers/custom_graph_optimizer_registry.cc:114] Plugin optimizer for device_type GPU is enabled.\n",
      "2023-04-23 18:01:02.155899: I tensorflow/core/grappler/optimizers/custom_graph_optimizer_registry.cc:114] Plugin optimizer for device_type GPU is enabled.\n",
      "2023-04-23 18:01:02.480228: I tensorflow/core/grappler/optimizers/custom_graph_optimizer_registry.cc:114] Plugin optimizer for device_type GPU is enabled.\n"
     ]
    },
    {
     "name": "stdout",
     "output_type": "stream",
     "text": [
      "55/55 [==============================] - 21s 291ms/step - loss: 1.0810 - accuracy: 0.6211 - val_loss: 1.0627 - val_accuracy: 0.6707\n",
      "Epoch 2/10\n",
      "55/55 [==============================] - 12s 213ms/step - loss: 1.0484 - accuracy: 0.6541 - val_loss: 1.0313 - val_accuracy: 0.6707\n",
      "Epoch 3/10\n",
      "55/55 [==============================] - 12s 210ms/step - loss: 1.0195 - accuracy: 0.6541 - val_loss: 1.0032 - val_accuracy: 0.6707\n",
      "Epoch 4/10\n",
      "55/55 [==============================] - 12s 212ms/step - loss: 0.9937 - accuracy: 0.6541 - val_loss: 0.9782 - val_accuracy: 0.6707\n",
      "Epoch 5/10\n",
      "55/55 [==============================] - 12s 219ms/step - loss: 0.9707 - accuracy: 0.6541 - val_loss: 0.9558 - val_accuracy: 0.6707\n",
      "Epoch 6/10\n",
      "55/55 [==============================] - 12s 211ms/step - loss: 0.9500 - accuracy: 0.6541 - val_loss: 0.9358 - val_accuracy: 0.6707\n",
      "Epoch 7/10\n",
      "55/55 [==============================] - 12s 210ms/step - loss: 0.9315 - accuracy: 0.6541 - val_loss: 0.9179 - val_accuracy: 0.6707\n",
      "Epoch 8/10\n",
      "55/55 [==============================] - 12s 214ms/step - loss: 0.9150 - accuracy: 0.6541 - val_loss: 0.9019 - val_accuracy: 0.6707\n",
      "Epoch 9/10\n",
      "55/55 [==============================] - 12s 215ms/step - loss: 0.9001 - accuracy: 0.6541 - val_loss: 0.8875 - val_accuracy: 0.6707\n",
      "Epoch 10/10\n",
      "55/55 [==============================] - 12s 214ms/step - loss: 0.8867 - accuracy: 0.6541 - val_loss: 0.8746 - val_accuracy: 0.6707\n"
     ]
    }
   ],
   "source": [
    "# Input for variable-length sequences of integers\n",
    "inputs = keras.Input(shape=(None,), dtype=\"int32\")\n",
    "# Embed each integer in a 128-dimensional vector\n",
    "x = layers.Embedding(max_features, 128)(inputs)\n",
    "# Add 2 bidirectional LSTMs\n",
    "x = layers.LSTM(64, return_sequences=True)(x)\n",
    "x = layers.LSTM(64)(x)\n",
    "# Add a classifier\n",
    "outputs = layers.Dense(3, activation=\"softmax\")(x)\n",
    "model = keras.Model(inputs, outputs)\n",
    "model.summary()\n",
    "\n",
    "\n",
    "model.compile(keras.optimizers.SGD(0.001), \"categorical_crossentropy\", metrics=['accuracy'])\n",
    "# model.compile(\"adam\", \"categorical_crossentropy\", metrics=[\"accuracy\"])\n",
    "history = model.fit(train_data, train_labels, batch_size=128, epochs=10, validation_split=0.3)\n"
   ]
  },
  {
   "cell_type": "code",
   "execution_count": 29,
   "metadata": {},
   "outputs": [
    {
     "data": {
      "image/png": "[encoded data removed]",
      "text/plain": [
       "<Figure size 432x288 with 1 Axes>"
      ]
     },
     "metadata": {
      "needs_background": "light"
     },
     "output_type": "display_data"
    },
    {
     "data": {
      "image/png": "[encoded data removed]",
      "text/plain": [
       "<Figure size 432x288 with 1 Axes>"
      ]
     },
     "metadata": {
      "needs_background": "light"
     },
     "output_type": "display_data"
    }
   ],
   "source": [
    "import plot\n",
    "# Plot history\n",
    "plot.plot_history(history, 'loss', 'val_loss')\n",
    "plot.plot_history(history, 'accuracy', 'val_accuracy')\n"
   ]
  },
  {
   "cell_type": "code",
   "execution_count": null,
   "metadata": {},
   "outputs": [],
   "source": []
  }
 ],
 "metadata": {
  "kernelspec": {
   "display_name": "base",
   "language": "python",
   "name": "python3"
  },
  "language_info": {
   "codemirror_mode": {
    "name": "ipython",
    "version": 3
   },
   "file_extension": ".py",
   "mimetype": "text/x-python",
   "name": "python",
   "nbconvert_exporter": "python",
   "pygments_lexer": "ipython3",
   "version": "3.9.12"
  },
  "orig_nbformat": 4
 },
 "nbformat": 4,
 "nbformat_minor": 2
}
