{
 "cells": [
  {
   "cell_type": "code",
   "execution_count": 12,
   "metadata": {},
   "outputs": [
    {
     "name": "stdout",
     "output_type": "stream",
     "text": [
      "id           0\n",
      "tid1         0\n",
      "tid2         0\n",
      "title1_en    0\n",
      "title2_en    0\n",
      "label        0\n",
      "label_num    0\n",
      "dtype: int64\n",
      "(256442, 7)\n"
     ]
    },
    {
     "data": {
      "text/html": [
       "<div>\n",
       "<style scoped>\n",
       "    .dataframe tbody tr th:only-of-type {\n",
       "        vertical-align: middle;\n",
       "    }\n",
       "\n",
       "    .dataframe tbody tr th {\n",
       "        vertical-align: top;\n",
       "    }\n",
       "\n",
       "    .dataframe thead th {\n",
       "        text-align: right;\n",
       "    }\n",
       "</style>\n",
       "<table border=\"1\" class=\"dataframe\">\n",
       "  <thead>\n",
       "    <tr style=\"text-align: right;\">\n",
       "      <th></th>\n",
       "      <th>id</th>\n",
       "      <th>tid1</th>\n",
       "      <th>tid2</th>\n",
       "      <th>title1_en</th>\n",
       "      <th>title2_en</th>\n",
       "      <th>label</th>\n",
       "      <th>label_num</th>\n",
       "    </tr>\n",
       "  </thead>\n",
       "  <tbody>\n",
       "    <tr>\n",
       "      <th>0</th>\n",
       "      <td>195611</td>\n",
       "      <td>0</td>\n",
       "      <td>1</td>\n",
       "      <td>There are two new old-age insurance benefits f...</td>\n",
       "      <td>Police disprove \"bird's nest congress each per...</td>\n",
       "      <td>unrelated</td>\n",
       "      <td>2</td>\n",
       "    </tr>\n",
       "    <tr>\n",
       "      <th>1</th>\n",
       "      <td>191474</td>\n",
       "      <td>2</td>\n",
       "      <td>3</td>\n",
       "      <td>\"If you do not come to Shenzhen, sooner or lat...</td>\n",
       "      <td>Shenzhen's GDP outstrips Hong Kong? Shenzhen S...</td>\n",
       "      <td>unrelated</td>\n",
       "      <td>2</td>\n",
       "    </tr>\n",
       "    <tr>\n",
       "      <th>2</th>\n",
       "      <td>25300</td>\n",
       "      <td>2</td>\n",
       "      <td>4</td>\n",
       "      <td>\"If you do not come to Shenzhen, sooner or lat...</td>\n",
       "      <td>The GDP overtopped Hong Kong? Shenzhen clarifi...</td>\n",
       "      <td>unrelated</td>\n",
       "      <td>2</td>\n",
       "    </tr>\n",
       "    <tr>\n",
       "      <th>3</th>\n",
       "      <td>123757</td>\n",
       "      <td>2</td>\n",
       "      <td>8</td>\n",
       "      <td>\"If you do not come to Shenzhen, sooner or lat...</td>\n",
       "      <td>Shenzhen's GDP overtakes Hong Kong? Bureau of ...</td>\n",
       "      <td>unrelated</td>\n",
       "      <td>2</td>\n",
       "    </tr>\n",
       "    <tr>\n",
       "      <th>4</th>\n",
       "      <td>141761</td>\n",
       "      <td>2</td>\n",
       "      <td>11</td>\n",
       "      <td>\"If you do not come to Shenzhen, sooner or lat...</td>\n",
       "      <td>Shenzhen's GDP outpaces Hong Kong? Defending R...</td>\n",
       "      <td>unrelated</td>\n",
       "      <td>2</td>\n",
       "    </tr>\n",
       "    <tr>\n",
       "      <th>...</th>\n",
       "      <td>...</td>\n",
       "      <td>...</td>\n",
       "      <td>...</td>\n",
       "      <td>...</td>\n",
       "      <td>...</td>\n",
       "      <td>...</td>\n",
       "      <td>...</td>\n",
       "    </tr>\n",
       "    <tr>\n",
       "      <th>256437</th>\n",
       "      <td>113364</td>\n",
       "      <td>167562</td>\n",
       "      <td>48447</td>\n",
       "      <td>egypt 's presidential election failed to win m...</td>\n",
       "      <td>Salah is retiring? Football Association offici...</td>\n",
       "      <td>unrelated</td>\n",
       "      <td>2</td>\n",
       "    </tr>\n",
       "    <tr>\n",
       "      <th>256438</th>\n",
       "      <td>49407</td>\n",
       "      <td>167562</td>\n",
       "      <td>49795</td>\n",
       "      <td>egypt 's presidential election failed to win m...</td>\n",
       "      <td>Liverpool's bid for Little Germany? The Echo's...</td>\n",
       "      <td>unrelated</td>\n",
       "      <td>2</td>\n",
       "    </tr>\n",
       "    <tr>\n",
       "      <th>256439</th>\n",
       "      <td>130134</td>\n",
       "      <td>167562</td>\n",
       "      <td>114783</td>\n",
       "      <td>egypt 's presidential election failed to win m...</td>\n",
       "      <td>West Media Exposing Tallahlach has been recomm...</td>\n",
       "      <td>unrelated</td>\n",
       "      <td>2</td>\n",
       "    </tr>\n",
       "    <tr>\n",
       "      <th>256440</th>\n",
       "      <td>101494</td>\n",
       "      <td>167562</td>\n",
       "      <td>137705</td>\n",
       "      <td>egypt 's presidential election failed to win m...</td>\n",
       "      <td>Rumor has it that Egypt is very united and the...</td>\n",
       "      <td>unrelated</td>\n",
       "      <td>2</td>\n",
       "    </tr>\n",
       "    <tr>\n",
       "      <th>256441</th>\n",
       "      <td>89356</td>\n",
       "      <td>167563</td>\n",
       "      <td>66480</td>\n",
       "      <td>Will the United States wage war on Iraq withou...</td>\n",
       "      <td>Saddam's daughter refutes rumors: no. 2 of Sad...</td>\n",
       "      <td>unrelated</td>\n",
       "      <td>2</td>\n",
       "    </tr>\n",
       "  </tbody>\n",
       "</table>\n",
       "<p>256442 rows × 7 columns</p>\n",
       "</div>"
      ],
      "text/plain": [
       "            id    tid1    tid2  \\\n",
       "0       195611       0       1   \n",
       "1       191474       2       3   \n",
       "2        25300       2       4   \n",
       "3       123757       2       8   \n",
       "4       141761       2      11   \n",
       "...        ...     ...     ...   \n",
       "256437  113364  167562   48447   \n",
       "256438   49407  167562   49795   \n",
       "256439  130134  167562  114783   \n",
       "256440  101494  167562  137705   \n",
       "256441   89356  167563   66480   \n",
       "\n",
       "                                                title1_en  \\\n",
       "0       There are two new old-age insurance benefits f...   \n",
       "1       \"If you do not come to Shenzhen, sooner or lat...   \n",
       "2       \"If you do not come to Shenzhen, sooner or lat...   \n",
       "3       \"If you do not come to Shenzhen, sooner or lat...   \n",
       "4       \"If you do not come to Shenzhen, sooner or lat...   \n",
       "...                                                   ...   \n",
       "256437  egypt 's presidential election failed to win m...   \n",
       "256438  egypt 's presidential election failed to win m...   \n",
       "256439  egypt 's presidential election failed to win m...   \n",
       "256440  egypt 's presidential election failed to win m...   \n",
       "256441  Will the United States wage war on Iraq withou...   \n",
       "\n",
       "                                                title2_en      label  \\\n",
       "0       Police disprove \"bird's nest congress each per...  unrelated   \n",
       "1       Shenzhen's GDP outstrips Hong Kong? Shenzhen S...  unrelated   \n",
       "2       The GDP overtopped Hong Kong? Shenzhen clarifi...  unrelated   \n",
       "3       Shenzhen's GDP overtakes Hong Kong? Bureau of ...  unrelated   \n",
       "4       Shenzhen's GDP outpaces Hong Kong? Defending R...  unrelated   \n",
       "...                                                   ...        ...   \n",
       "256437  Salah is retiring? Football Association offici...  unrelated   \n",
       "256438  Liverpool's bid for Little Germany? The Echo's...  unrelated   \n",
       "256439  West Media Exposing Tallahlach has been recomm...  unrelated   \n",
       "256440  Rumor has it that Egypt is very united and the...  unrelated   \n",
       "256441  Saddam's daughter refutes rumors: no. 2 of Sad...  unrelated   \n",
       "\n",
       "        label_num  \n",
       "0               2  \n",
       "1               2  \n",
       "2               2  \n",
       "3               2  \n",
       "4               2  \n",
       "...           ...  \n",
       "256437          2  \n",
       "256438          2  \n",
       "256439          2  \n",
       "256440          2  \n",
       "256441          2  \n",
       "\n",
       "[256442 rows x 7 columns]"
      ]
     },
     "execution_count": 12,
     "metadata": {},
     "output_type": "execute_result"
    }
   ],
   "source": [
    "import numpy as np\n",
    "import pandas as pd\n",
    "import matplotlib.pyplot as plt\n",
    "\n",
    "train_df = pd.read_csv('./data/train.csv')\n",
    "test_df = pd.read_csv('./data/test.csv')\n",
    "\n",
    "label_dict = {'agreed': 0, 'disagreed': 1, 'unrelated': 2}\n",
    "train_df['label_num'] = train_df['label'].apply(lambda x: label_dict[x])\n",
    "\n",
    "print(train_df.isnull().sum())\n",
    "print(train_df.shape)\n",
    "train_df\n"
   ]
  },
  {
   "cell_type": "code",
   "execution_count": 35,
   "metadata": {},
   "outputs": [
    {
     "data": {
      "text/plain": [
       "<AxesSubplot:>"
      ]
     },
     "execution_count": 35,
     "metadata": {},
     "output_type": "execute_result"
    },
    {
     "data": {
      "image/png": "[encoded data removed]",
      "text/plain": [
       "<Figure size 432x288 with 1 Axes>"
      ]
     },
     "metadata": {
      "needs_background": "light"
     },
     "output_type": "display_data"
    }
   ],
   "source": [
    "# print(train_df['title1_en'].str.len().value_counts())\n",
    "# train_df['title1_en'].str.len().plot(kind='hist')\n",
    "train_df['title2_en'].str.len().hist(bins=40)"
   ]
  },
  {
   "cell_type": "code",
   "execution_count": 36,
   "metadata": {},
   "outputs": [
    {
     "name": "stdout",
     "output_type": "stream",
     "text": [
      "unrelated    175598\n",
      "agreed        74238\n",
      "disagreed      6606\n",
      "Name: label, dtype: int64\n"
     ]
    },
    {
     "data": {
      "text/plain": [
       "<AxesSubplot:ylabel='Frequency'>"
      ]
     },
     "execution_count": 36,
     "metadata": {},
     "output_type": "execute_result"
    },
    {
     "data": {
      "image/png": "[encoded data removed]",
      "text/plain": [
       "<Figure size 432x288 with 1 Axes>"
      ]
     },
     "metadata": {
      "needs_background": "light"
     },
     "output_type": "display_data"
    }
   ],
   "source": [
    "print(train_df['label'].value_counts())\n",
    "train_df['label_num'].plot(kind=\"hist\")"
   ]
  },
  {
   "cell_type": "code",
   "execution_count": 10,
   "metadata": {},
   "outputs": [
    {
     "name": "stderr",
     "output_type": "stream",
     "text": [
      "/var/folders/g6/ffg782y56_s5b_cvljcm9_sc0000gn/T/ipykernel_51672/607805543.py:15: FutureWarning: The frame.append method is deprecated and will be removed from pandas in a future version. Use pandas.concat instead.\n",
      "  train = train.append(data[mask])\n",
      "/var/folders/g6/ffg782y56_s5b_cvljcm9_sc0000gn/T/ipykernel_51672/607805543.py:16: FutureWarning: The frame.append method is deprecated and will be removed from pandas in a future version. Use pandas.concat instead.\n",
      "  test  =  test.append(data[~mask])\n",
      "/var/folders/g6/ffg782y56_s5b_cvljcm9_sc0000gn/T/ipykernel_51672/607805543.py:15: FutureWarning: The frame.append method is deprecated and will be removed from pandas in a future version. Use pandas.concat instead.\n",
      "  train = train.append(data[mask])\n",
      "/var/folders/g6/ffg782y56_s5b_cvljcm9_sc0000gn/T/ipykernel_51672/607805543.py:16: FutureWarning: The frame.append method is deprecated and will be removed from pandas in a future version. Use pandas.concat instead.\n",
      "  test  =  test.append(data[~mask])\n",
      "/var/folders/g6/ffg782y56_s5b_cvljcm9_sc0000gn/T/ipykernel_51672/607805543.py:15: FutureWarning: The frame.append method is deprecated and will be removed from pandas in a future version. Use pandas.concat instead.\n",
      "  train = train.append(data[mask])\n",
      "/var/folders/g6/ffg782y56_s5b_cvljcm9_sc0000gn/T/ipykernel_51672/607805543.py:16: FutureWarning: The frame.append method is deprecated and will be removed from pandas in a future version. Use pandas.concat instead.\n",
      "  test  =  test.append(data[~mask])\n"
     ]
    }
   ],
   "source": [
    "\n",
    "from numpy.random import binomial\n",
    "np.random.seed(0)\n",
    "\n",
    "\n",
    "grouper = train_df.groupby(\"label_num\")\n",
    "sizes = grouper.size()\n",
    "\n",
    "fracs = (sizes.min()) / sizes\n",
    "\n",
    "test  = pd.DataFrame()\n",
    "train = pd.DataFrame()\n",
    "\n",
    "for grp, data in grouper: # reuse the grouper!\n",
    "    mask = binomial(1, fracs.loc[grp], data.shape[0]).astype(bool)\n",
    "    train = train.append(data[mask])\n",
    "    test  =  test.append(data[~mask])\n"
   ]
  },
  {
   "cell_type": "code",
   "execution_count": 11,
   "metadata": {},
   "outputs": [
    {
     "data": {
      "text/plain": [
       "label_num\n",
       "0    6583\n",
       "1    6606\n",
       "2    6672\n",
       "dtype: int64"
      ]
     },
     "execution_count": 11,
     "metadata": {},
     "output_type": "execute_result"
    },
    {
     "data": {
      "image/png": "[encoded data removed]",
      "text/plain": [
       "<Figure size 432x288 with 1 Axes>"
      ]
     },
     "metadata": {
      "needs_background": "light"
     },
     "output_type": "display_data"
    }
   ],
   "source": [
    "train.label_num.plot(kind=\"hist\")\n",
    "train.groupby(\"label_num\").size()"
   ]
  },
  {
   "cell_type": "code",
   "execution_count": 13,
   "metadata": {},
   "outputs": [
    {
     "name": "stdout",
     "output_type": "stream",
     "text": [
      "<class 'str'>\n"
     ]
    }
   ],
   "source": []
  },
  {
   "cell_type": "code",
   "execution_count": null,
   "metadata": {},
   "outputs": [],
   "source": []
  }
 ],
 "metadata": {
  "kernelspec": {
   "display_name": "base",
   "language": "python",
   "name": "python3"
  },
  "language_info": {
   "codemirror_mode": {
    "name": "ipython",
    "version": 3
   },
   "file_extension": ".py",
   "mimetype": "text/x-python",
   "name": "python",
   "nbconvert_exporter": "python",
   "pygments_lexer": "ipython3",
   "version": "3.9.12"
  },
  "orig_nbformat": 4
 },
 "nbformat": 4,
 "nbformat_minor": 2
}
